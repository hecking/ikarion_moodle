{
 "cells": [
  {
   "cell_type": "code",
   "execution_count": 1,
   "metadata": {
    "collapsed": true
   },
   "outputs": [],
   "source": [
    "import csv"
   ]
  },
  {
   "cell_type": "code",
   "execution_count": 7,
   "metadata": {
    "collapsed": false
   },
   "outputs": [],
   "source": [
    "course_name = \"gen_test\"\n",
    "field_names = [\"username\", \"password\", \"firstname\", \"lastname\", \"email\", \"course1\"]\n",
    "with open(\"test_users.csv\", \"w\", newline=\"\", encoding=\"utf8\") as tu_file:\n",
    "    writer = csv.writer(tu_file)\n",
    "    base_data = [\"test_user\", \"test_pw\", \"test_firstname\", \"test_lastname\", \"test_email\"]\n",
    "    writer.writerow(field_names)\n",
    "    for i in range(20):\n",
    "        user_data = [item + \"_\" + str(i) for item in base_data] + [course_name]\n",
    "        user_data[-2] += \"@abc.invalid\"\n",
    "        writer.writerow(user_data)\n",
    "    "
   ]
  },
  {
   "cell_type": "code",
   "execution_count": null,
   "metadata": {
    "collapsed": true
   },
   "outputs": [],
   "source": []
  }
 ],
 "metadata": {
  "kernelspec": {
   "display_name": "Python 3",
   "language": "python",
   "name": "python3"
  },
  "language_info": {
   "codemirror_mode": {
    "name": "ipython",
    "version": 3
   },
   "file_extension": ".py",
   "mimetype": "text/x-python",
   "name": "python",
   "nbconvert_exporter": "python",
   "pygments_lexer": "ipython3",
   "version": "3.6.0"
  }
 },
 "nbformat": 4,
 "nbformat_minor": 2
}
